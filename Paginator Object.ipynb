{
 "cells": [
  {
   "cell_type": "code",
   "execution_count": 1,
   "metadata": {},
   "outputs": [],
   "source": [
    "try:\n",
    "    import boto3\n",
    "except Exception as e:\n",
    "    print(\"Some modules are missing {}\".format(e))\n",
    "\n",
    "with open(\"secret.txt\",\"r\") as f:\n",
    "    data = f.readlines()\n",
    "    AWS_ACCESS_KEY = data[0].strip(\"\\n\")\n",
    "    AWS_SECRET_KEY = data[1].strip(\"\\n\")\n",
    "\n",
    "# creating a client object\n",
    "client = boto3.client(\"s3\",\n",
    "                      aws_access_key_id=AWS_ACCESS_KEY,\n",
    "                      aws_secret_access_key=AWS_SECRET_KEY,\n",
    "                      region_name=\"ap-south-1\"\n",
    "                     )"
   ]
  },
  {
   "cell_type": "code",
   "execution_count": 2,
   "metadata": {},
   "outputs": [],
   "source": [
    "paginator = client.get_paginator('list_objects_v2')"
   ]
  },
  {
   "cell_type": "code",
   "execution_count": 3,
   "metadata": {},
   "outputs": [],
   "source": [
    "pages = paginator.paginate(Bucket=\"danish450077132020\",Prefix='PDF/')"
   ]
  },
  {
   "cell_type": "code",
   "execution_count": 4,
   "metadata": {},
   "outputs": [
    {
     "data": {
      "text/plain": [
       "<botocore.paginate.PageIterator at 0x7f28e8544320>"
      ]
     },
     "execution_count": 4,
     "metadata": {},
     "output_type": "execute_result"
    }
   ],
   "source": [
    "pages"
   ]
  },
  {
   "cell_type": "code",
   "execution_count": 9,
   "metadata": {},
   "outputs": [],
   "source": [
    "data = []\n",
    "for page in pages:\n",
    "    for obj in page['Contents']:\n",
    "        data.append(obj['Key'])\n",
    "        "
   ]
  },
  {
   "cell_type": "code",
   "execution_count": 10,
   "metadata": {},
   "outputs": [
    {
     "data": {
      "text/plain": [
       "['PDF/Resume-Danish-Sharma.pdf']"
      ]
     },
     "execution_count": 10,
     "metadata": {},
     "output_type": "execute_result"
    }
   ],
   "source": [
    "data"
   ]
  }
 ],
 "metadata": {
  "kernelspec": {
   "display_name": "Python 3",
   "language": "python",
   "name": "python3"
  },
  "language_info": {
   "codemirror_mode": {
    "name": "ipython",
    "version": 3
   },
   "file_extension": ".py",
   "mimetype": "text/x-python",
   "name": "python",
   "nbconvert_exporter": "python",
   "pygments_lexer": "ipython3",
   "version": "3.6.9"
  }
 },
 "nbformat": 4,
 "nbformat_minor": 4
}
