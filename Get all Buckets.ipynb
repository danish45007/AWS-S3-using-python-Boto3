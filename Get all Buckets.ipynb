{
 "cells": [
  {
   "cell_type": "code",
   "execution_count": 1,
   "metadata": {},
   "outputs": [],
   "source": [
    "try:\n",
    "    import boto3\n",
    "except Exception as e:\n",
    "    print(\"Some modules are missing {}\".format(e))\n",
    "\n",
    "with open(\"secret.txt\",\"r\") as f:\n",
    "    data = f.readlines()\n",
    "    AWS_ACCESS_KEY = data[0].strip(\"\\n\")\n",
    "    AWS_SECRET_KEY = data[1].strip(\"\\n\")"
   ]
  },
  {
   "cell_type": "code",
   "execution_count": 2,
   "metadata": {},
   "outputs": [],
   "source": [
    "# creating resource object\n",
    "s3 = boto3.resource(\"s3\",\n",
    "                      aws_access_key_id=AWS_ACCESS_KEY,\n",
    "                      aws_secret_access_key=AWS_SECRET_KEY,\n",
    "                      region_name=\"ap-south-1\")"
   ]
  },
  {
   "cell_type": "code",
   "execution_count": 6,
   "metadata": {},
   "outputs": [
    {
     "name": "stdout",
     "output_type": "stream",
     "text": [
      "danish450077132020\n"
     ]
    }
   ],
   "source": [
    "for buckets in s3.buckets.all():\n",
    "    print(buckets.name)"
   ]
  },
  {
   "cell_type": "code",
   "execution_count": null,
   "metadata": {},
   "outputs": [],
   "source": []
  }
 ],
 "metadata": {
  "kernelspec": {
   "display_name": "Python 3",
   "language": "python",
   "name": "python3"
  },
  "language_info": {
   "codemirror_mode": {
    "name": "ipython",
    "version": 3
   },
   "file_extension": ".py",
   "mimetype": "text/x-python",
   "name": "python",
   "nbconvert_exporter": "python",
   "pygments_lexer": "ipython3",
   "version": "3.6.9"
  }
 },
 "nbformat": 4,
 "nbformat_minor": 4
}
