{
 "cells": [
  {
   "cell_type": "code",
   "execution_count": 3,
   "metadata": {},
   "outputs": [
    {
     "data": {
      "text/plain": [
       "{'ResponseMetadata': {'RequestId': '34A8F7A3C28DA8FB',\n",
       "  'HostId': 'D6NnE3zGq510bihp8UyIhSM3he7ujIgWUhdwTXEGWc5pkRjiBajmWEnvY8M5dmiEUD1N+ZUXbYo=',\n",
       "  'HTTPStatusCode': 204,\n",
       "  'HTTPHeaders': {'x-amz-id-2': 'D6NnE3zGq510bihp8UyIhSM3he7ujIgWUhdwTXEGWc5pkRjiBajmWEnvY8M5dmiEUD1N+ZUXbYo=',\n",
       "   'x-amz-request-id': '34A8F7A3C28DA8FB',\n",
       "   'date': 'Mon, 13 Jul 2020 14:49:14 GMT',\n",
       "   'server': 'AmazonS3'},\n",
       "  'RetryAttempts': 0}}"
      ]
     },
     "execution_count": 3,
     "metadata": {},
     "output_type": "execute_result"
    }
   ],
   "source": [
    "try:\n",
    "    import boto3\n",
    "except Exception as e:\n",
    "    print(\"Some modules are missing {}\".format(e))\n",
    "\n",
    "with open(\"secret.txt\",\"r\") as f:\n",
    "    data = f.readlines()\n",
    "    AWS_ACCESS_KEY = data[0].strip(\"\\n\")\n",
    "    AWS_SECRET_KEY = data[1].strip(\"\\n\")\n",
    "    \n",
    "    \n",
    "\n",
    "# creating resource object\n",
    "s3 = boto3.resource(\"s3\",\n",
    "                      aws_access_key_id=AWS_ACCESS_KEY,\n",
    "                      aws_secret_access_key=AWS_SECRET_KEY,\n",
    "                      region_name=\"ap-south-1\")\n",
    "\n",
    "# defining the bucket name\n",
    "bucket = s3.Bucket(\"danish450077132020\")\n",
    "bucket.delete()"
   ]
  }
 ],
 "metadata": {
  "kernelspec": {
   "display_name": "Python 3",
   "language": "python",
   "name": "python3"
  },
  "language_info": {
   "codemirror_mode": {
    "name": "ipython",
    "version": 3
   },
   "file_extension": ".py",
   "mimetype": "text/x-python",
   "name": "python",
   "nbconvert_exporter": "python",
   "pygments_lexer": "ipython3",
   "version": "3.6.9"
  }
 },
 "nbformat": 4,
 "nbformat_minor": 4
}
