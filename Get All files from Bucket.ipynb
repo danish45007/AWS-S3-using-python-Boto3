{
 "cells": [
  {
   "cell_type": "code",
   "execution_count": 1,
   "metadata": {},
   "outputs": [],
   "source": [
    "try:\n",
    "    import boto3\n",
    "except Exception as e:\n",
    "    print(\"Some modules are missing {}\".format(e))\n",
    "\n",
    "with open(\"secret.txt\",\"r\") as f:\n",
    "    data = f.readlines()\n",
    "    AWS_ACCESS_KEY = data[0].strip(\"\\n\")\n",
    "    AWS_SECRET_KEY = data[1].strip(\"\\n\")\n",
    "\n",
    "# creating a client object\n",
    "client = boto3.client(\"s3\",\n",
    "                      aws_access_key_id=AWS_ACCESS_KEY,\n",
    "                      aws_secret_access_key=AWS_SECRET_KEY,\n",
    "                      region_name=\"ap-south-1\"\n",
    "                     )\n"
   ]
  },
  {
   "cell_type": "code",
   "execution_count": 2,
   "metadata": {},
   "outputs": [],
   "source": [
    "response = client.list_objects(Bucket=\"danish450077132020\")"
   ]
  },
  {
   "cell_type": "code",
   "execution_count": 3,
   "metadata": {},
   "outputs": [
    {
     "data": {
      "text/plain": [
       "{'ResponseMetadata': {'RequestId': '1E53B1D4354F3524',\n",
       "  'HostId': 'cAItlwIDLyDoSGlYEJDL7wDwmddRolPZsbXjBnjX3OmsGZCUxtrX6ZiDcGQQeuTkhVFhL6MmYRE=',\n",
       "  'HTTPStatusCode': 200,\n",
       "  'HTTPHeaders': {'x-amz-id-2': 'cAItlwIDLyDoSGlYEJDL7wDwmddRolPZsbXjBnjX3OmsGZCUxtrX6ZiDcGQQeuTkhVFhL6MmYRE=',\n",
       "   'x-amz-request-id': '1E53B1D4354F3524',\n",
       "   'date': 'Mon, 13 Jul 2020 16:53:15 GMT',\n",
       "   'x-amz-bucket-region': 'ap-south-1',\n",
       "   'content-type': 'application/xml',\n",
       "   'transfer-encoding': 'chunked',\n",
       "   'server': 'AmazonS3'},\n",
       "  'RetryAttempts': 0},\n",
       " 'IsTruncated': False,\n",
       " 'Marker': '',\n",
       " 'Contents': [{'Key': 'flights.csv',\n",
       "   'LastModified': datetime.datetime(2020, 7, 13, 16, 47, 49, tzinfo=tzutc()),\n",
       "   'ETag': '\"c587675e9c33df06a94745d34b868fe9\"',\n",
       "   'Size': 2180,\n",
       "   'StorageClass': 'STANDARD',\n",
       "   'Owner': {'ID': 'ae41eb0ee5401e8256313853b374ec35f05408d737d7a52c4a2ec510b5bb3f4b'}},\n",
       "  {'Key': 'python.png',\n",
       "   'LastModified': datetime.datetime(2020, 7, 13, 16, 51, 4, tzinfo=tzutc()),\n",
       "   'ETag': '\"c587675e9c33df06a94745d34b868fe9\"',\n",
       "   'Size': 2180,\n",
       "   'StorageClass': 'STANDARD',\n",
       "   'Owner': {'ID': 'ae41eb0ee5401e8256313853b374ec35f05408d737d7a52c4a2ec510b5bb3f4b'}}],\n",
       " 'Name': 'danish450077132020',\n",
       " 'Prefix': '',\n",
       " 'MaxKeys': 1000,\n",
       " 'EncodingType': 'url'}"
      ]
     },
     "execution_count": 3,
     "metadata": {},
     "output_type": "execute_result"
    }
   ],
   "source": [
    "response"
   ]
  },
  {
   "cell_type": "code",
   "execution_count": null,
   "metadata": {},
   "outputs": [],
   "source": [
    "response.Conten"
   ]
  }
 ],
 "metadata": {
  "kernelspec": {
   "display_name": "Python 3",
   "language": "python",
   "name": "python3"
  },
  "language_info": {
   "codemirror_mode": {
    "name": "ipython",
    "version": 3
   },
   "file_extension": ".py",
   "mimetype": "text/x-python",
   "name": "python",
   "nbconvert_exporter": "python",
   "pygments_lexer": "ipython3",
   "version": "3.6.9"
  }
 },
 "nbformat": 4,
 "nbformat_minor": 4
}
