{
 "cells": [
  {
   "cell_type": "code",
   "execution_count": 13,
   "metadata": {},
   "outputs": [],
   "source": [
    "try:\n",
    "    import boto3\n",
    "except Exception as e:\n",
    "    print(\"Some modules are missing {}\".format(e))\n",
    "\n",
    "with open(\"secret.txt\",\"r\") as f:\n",
    "    data = f.readlines()\n",
    "    AWS_ACCESS_KEY = data[0].strip(\"\\n\")\n",
    "    AWS_SECRET_KEY = data[1].strip(\"\\n\")\n",
    "\n",
    "# creating a client object\n",
    "client = boto3.client(\"s3\",\n",
    "                      aws_access_key_id=AWS_ACCESS_KEY,\n",
    "                      aws_secret_access_key=AWS_SECRET_KEY,\n",
    "                      region_name=\"ap-south-1\"\n",
    "                     )"
   ]
  },
  {
   "cell_type": "code",
   "execution_count": 14,
   "metadata": {},
   "outputs": [
    {
     "data": {
      "text/plain": [
       "'7132020'"
      ]
     },
     "execution_count": 14,
     "metadata": {},
     "output_type": "execute_result"
    }
   ],
   "source": [
    "import datetime\n",
    "d = datetime.datetime.now()\n",
    "Current_Date = \"{}{}{}\".format(d.month,d.day,d.year)\n",
    "Current_Date"
   ]
  },
  {
   "cell_type": "code",
   "execution_count": 15,
   "metadata": {},
   "outputs": [],
   "source": [
    "respone = client.create_bucket(ACL='private',\n",
    "                               Bucket = \"danish45007{}\".format(Current_Date),\n",
    "                               CreateBucketConfiguration={\n",
    "                                   'LocationConstraint':\"ap-south-1\"\n",
    "                               }\n",
    "                              )"
   ]
  },
  {
   "cell_type": "code",
   "execution_count": 16,
   "metadata": {},
   "outputs": [
    {
     "data": {
      "text/plain": [
       "{'ResponseMetadata': {'RequestId': 'E11A4F7DA9ED7931',\n",
       "  'HostId': 'Th0qXLbGIUyxRT+vLteijFLPziUtJJ/SFZeJbcOHeUJ3nKYGnAUdejfekHD4UaIBV8UDWayaWR8=',\n",
       "  'HTTPStatusCode': 200,\n",
       "  'HTTPHeaders': {'x-amz-id-2': 'Th0qXLbGIUyxRT+vLteijFLPziUtJJ/SFZeJbcOHeUJ3nKYGnAUdejfekHD4UaIBV8UDWayaWR8=',\n",
       "   'x-amz-request-id': 'E11A4F7DA9ED7931',\n",
       "   'date': 'Mon, 13 Jul 2020 15:53:38 GMT',\n",
       "   'location': 'http://danish450077132020.s3.amazonaws.com/',\n",
       "   'content-length': '0',\n",
       "   'server': 'AmazonS3'},\n",
       "  'RetryAttempts': 0},\n",
       " 'Location': 'http://danish450077132020.s3.amazonaws.com/'}"
      ]
     },
     "execution_count": 16,
     "metadata": {},
     "output_type": "execute_result"
    }
   ],
   "source": [
    "respone"
   ]
  },
  {
   "cell_type": "code",
   "execution_count": null,
   "metadata": {},
   "outputs": [],
   "source": []
  }
 ],
 "metadata": {
  "kernelspec": {
   "display_name": "Python 3",
   "language": "python",
   "name": "python3"
  },
  "language_info": {
   "codemirror_mode": {
    "name": "ipython",
    "version": 3
   },
   "file_extension": ".py",
   "mimetype": "text/x-python",
   "name": "python",
   "nbconvert_exporter": "python",
   "pygments_lexer": "ipython3",
   "version": "3.6.9"
  }
 },
 "nbformat": 4,
 "nbformat_minor": 4
}
