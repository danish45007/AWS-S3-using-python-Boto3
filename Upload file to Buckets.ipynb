{
 "cells": [
  {
   "cell_type": "code",
   "execution_count": 16,
   "metadata": {
    "scrolled": true
   },
   "outputs": [
    {
     "name": "stdout",
     "output_type": "stream",
     "text": [
      ".git\n",
      ".gitignore\n",
      ".ipynb_checkpoints\n",
      "Creating AWS S3.ipynb\n",
      "Delete AWS S3.ipynb\n",
      "env\n",
      "flights.csv\n",
      "Get all Buckets.ipynb\n",
      "secret.txt\n",
      "Upload file to Buckets.ipynb\n"
     ]
    }
   ],
   "source": [
    "import os\n",
    "for x in os.listdir():\n",
    "    print(x)"
   ]
  },
  {
   "cell_type": "code",
   "execution_count": 28,
   "metadata": {},
   "outputs": [],
   "source": [
    "with open(\"flights.csv\",\"rb\") as f:\n",
    "    data_ = f.read()\n",
    "    "
   ]
  },
  {
   "cell_type": "code",
   "execution_count": 29,
   "metadata": {},
   "outputs": [
    {
     "data": {
      "text/plain": [
       "b'year,month,passengers\\r\\n 1949,January,112\\r\\n 1949,February,118\\r\\n 1949,March,132\\r\\n 1949,April,129\\r\\n 1949,May,121\\r\\n 1949,June,135\\r\\n 1949,July,148\\r\\n 1949,August,148\\r\\n 1949,September,136\\r\\n 1949,October,119\\r\\n 1949,November,104\\r\\n 1949,December,118\\r\\n 1950,January,115\\r\\n 1950,February,126\\r\\n 1950,March,141\\r\\n 1950,April,135\\r\\n 1950,May,125\\r\\n 1950,June,149\\r\\n 1950,July,170\\r\\n 1950,August,170\\r\\n 1950,September,158\\r\\n 1950,October,133\\r\\n 1950,November,114\\r\\n 1950,December,140\\r\\n 1951,January,145\\r\\n 1951,February,150\\r\\n 1951,March,178\\r\\n 1951,April,163\\r\\n 1951,May,172\\r\\n 1951,June,178\\r\\n 1951,July,199\\r\\n 1951,August,199\\r\\n 1951,September,184\\r\\n 1951,October,162\\r\\n 1951,November,146\\r\\n 1951,December,166\\r\\n 1952,January,171\\r\\n 1952,February,180\\r\\n 1952,March,193\\r\\n 1952,April,181\\r\\n 1952,May,183\\r\\n 1952,June,218\\r\\n 1952,July,230\\r\\n 1952,August,242\\r\\n 1952,September,209\\r\\n 1952,October,191\\r\\n 1952,November,172\\r\\n 1952,December,194\\r\\n 1953,January,196\\r\\n 1953,February,196\\r\\n 1953,March,236\\r\\n 1953,April,235\\r\\n 1953,May,229\\r\\n 1953,June,243\\r\\n 1953,July,264\\r\\n 1953,August,272\\r\\n 1953,September,237\\r\\n 1953,October,211\\r\\n 1953,November,180\\r\\n 1953,December,201\\r\\n 1954,January,204\\r\\n 1954,February,188\\r\\n 1954,March,235\\r\\n 1954,April,227\\r\\n 1954,May,234\\r\\n 1954,June,264\\r\\n 1954,July,302\\r\\n 1954,August,293\\r\\n 1954,September,259\\r\\n 1954,October,229\\r\\n 1954,November,203\\r\\n 1954,December,229\\r\\n 1955,January,242\\r\\n 1955,February,233\\r\\n 1955,March,267\\r\\n 1955,April,269\\r\\n 1955,May,270\\r\\n 1955,June,315\\r\\n 1955,July,364\\r\\n 1955,August,347\\r\\n 1955,September,312\\r\\n 1955,October,274\\r\\n 1955,November,237\\r\\n 1955,December,278\\r\\n 1956,January,284\\r\\n 1956,February,277\\r\\n 1956,March,317\\r\\n 1956,April,313\\r\\n 1956,May,318\\r\\n 1956,June,374\\r\\n 1956,July,413\\r\\n 1956,August,405\\r\\n 1956,September,355\\r\\n 1956,October,306\\r\\n 1956,November,271\\r\\n 1956,December,306\\r\\n 1957,January,315\\r\\n 1957,February,301\\r\\n 1957,March,356\\r\\n 1957,April,348\\r\\n 1957,May,355\\r\\n 1957,June,422\\r\\n 1957,July,465\\r\\n 1957,August,467\\r\\n 1957,September,404\\r\\n 1957,October,347\\r\\n 1957,November,305\\r\\n 1957,December,336\\r\\n 1958,January,340\\r\\n 1958,February,318\\r\\n 1958,March,362\\r\\n 1958,April,348\\r\\n 1958,May,363\\r\\n 1958,June,435\\r\\n 1958,July,491\\r\\n 1958,August,505\\r\\n 1958,September,404\\r\\n 1958,October,359\\r\\n 1958,November,310\\r\\n 1958,December,337\\r\\n 1959,January,360\\r\\n 1959,February,342\\r\\n 1959,March,406\\r\\n 1959,April,396\\r\\n 1959,May,420\\r\\n 1959,June,472\\r\\n 1959,July,548\\r\\n 1959,August,559\\r\\n 1959,September,463\\r\\n 1959,October,407\\r\\n 1959,November,362\\r\\n 1959,December,405\\r\\n 1960,January,417\\r\\n 1960,February,391\\r\\n 1960,March,419\\r\\n 1960,April,461\\r\\n 1960,May,472\\r\\n 1960,June,535\\r\\n 1960,July,622\\r\\n 1960,August,606\\r\\n 1960,September,508\\r\\n 1960,October,461\\r\\n 1960,November,390\\r\\n 1960,December,432'"
      ]
     },
     "execution_count": 29,
     "metadata": {},
     "output_type": "execute_result"
    }
   ],
   "source": [
    "data_"
   ]
  },
  {
   "cell_type": "code",
   "execution_count": 30,
   "metadata": {},
   "outputs": [
    {
     "data": {
      "text/plain": [
       "bytes"
      ]
     },
     "execution_count": 30,
     "metadata": {},
     "output_type": "execute_result"
    }
   ],
   "source": [
    "type(data_)"
   ]
  },
  {
   "cell_type": "code",
   "execution_count": 31,
   "metadata": {},
   "outputs": [
    {
     "data": {
      "text/plain": [
       "{'ResponseMetadata': {'RequestId': '90DDC14E26408ACA',\n",
       "  'HostId': 'DwZgda8OIFlqOlLDzLReyUislFi8juBCCIY2I8V3gZWhIeimoSqm5Uljgtdl0OPzvkrN535TvOw=',\n",
       "  'HTTPStatusCode': 200,\n",
       "  'HTTPHeaders': {'x-amz-id-2': 'DwZgda8OIFlqOlLDzLReyUislFi8juBCCIY2I8V3gZWhIeimoSqm5Uljgtdl0OPzvkrN535TvOw=',\n",
       "   'x-amz-request-id': '90DDC14E26408ACA',\n",
       "   'date': 'Mon, 13 Jul 2020 16:35:32 GMT',\n",
       "   'etag': '\"19f02214f87f52a87565e98122fe5854\"',\n",
       "   'content-length': '0',\n",
       "   'server': 'AmazonS3'},\n",
       "  'RetryAttempts': 0},\n",
       " 'ETag': '\"19f02214f87f52a87565e98122fe5854\"'}"
      ]
     },
     "execution_count": 31,
     "metadata": {},
     "output_type": "execute_result"
    }
   ],
   "source": [
    "try:\n",
    "    import boto3\n",
    "except Exception as e:\n",
    "    print(\"Some modules are missing {}\".format(e))\n",
    "\n",
    "with open(\"secret.txt\",\"r\") as f:\n",
    "    data = f.readlines()\n",
    "    AWS_ACCESS_KEY = data[0].strip(\"\\n\")\n",
    "    AWS_SECRET_KEY = data[1].strip(\"\\n\")\n",
    "\n",
    "# creating a client object\n",
    "client = boto3.client(\"s3\",\n",
    "                      aws_access_key_id=AWS_ACCESS_KEY,\n",
    "                      aws_secret_access_key=AWS_SECRET_KEY,\n",
    "                      region_name=\"ap-south-1\"\n",
    "                     )\n",
    "\n",
    "client.put_object(ACL=\"private\",\n",
    "                             Body=data_,\n",
    "                             Bucket=\"danish450077132020\",\n",
    "                             Key=\"flights.csv\"\n",
    "                            )"
   ]
  },
  {
   "cell_type": "code",
   "execution_count": null,
   "metadata": {},
   "outputs": [],
   "source": []
  }
 ],
 "metadata": {
  "kernelspec": {
   "display_name": "Python 3",
   "language": "python",
   "name": "python3"
  },
  "language_info": {
   "codemirror_mode": {
    "name": "ipython",
    "version": 3
   },
   "file_extension": ".py",
   "mimetype": "text/x-python",
   "name": "python",
   "nbconvert_exporter": "python",
   "pygments_lexer": "ipython3",
   "version": "3.6.9"
  }
 },
 "nbformat": 4,
 "nbformat_minor": 4
}
